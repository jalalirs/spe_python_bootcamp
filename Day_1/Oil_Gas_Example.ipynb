{
 "cells": [
  {
   "cell_type": "markdown",
   "metadata": {},
   "source": [
    "# Python Basics "
   ]
  },
  {
   "cell_type": "markdown",
   "metadata": {},
   "source": [
    "## Data Structure"
   ]
  },
  {
   "cell_type": "code",
   "execution_count": null,
   "metadata": {},
   "outputs": [],
   "source": [
    "import json"
   ]
  },
  {
   "cell_type": "code",
   "execution_count": null,
   "metadata": {},
   "outputs": [],
   "source": [
    "# opening json file and load it as list of dictionaries\n",
    "with open(\"data/brent-daily_json.json\") as f:\n",
    "    brent_daily = json.load(f)"
   ]
  },
  {
   "cell_type": "code",
   "execution_count": null,
   "metadata": {},
   "outputs": [],
   "source": [
    "# forward indexing\n",
    "brent_daily[0]"
   ]
  },
  {
   "cell_type": "code",
   "execution_count": null,
   "metadata": {},
   "outputs": [],
   "source": [
    "# backward indexing\n",
    "brent_daily[-1]"
   ]
  },
  {
   "cell_type": "code",
   "execution_count": null,
   "metadata": {},
   "outputs": [],
   "source": [
    "# forward slicing \n",
    "brent_daily[:10]"
   ]
  },
  {
   "cell_type": "code",
   "execution_count": null,
   "metadata": {},
   "outputs": [],
   "source": [
    "# backword slicing \n",
    "brent_daily[-15:-10]"
   ]
  },
  {
   "cell_type": "code",
   "execution_count": null,
   "metadata": {},
   "outputs": [],
   "source": [
    "# single line looping\n",
    "[p[\"Price\"] for p in brent_daily[:10]]"
   ]
  },
  {
   "cell_type": "code",
   "execution_count": null,
   "metadata": {},
   "outputs": [],
   "source": [
    "%matplotlib inline # to output charts inline after execution\n",
    "import matplotlib.pyplot as plt # plotting library\n",
    "import datetime # to convert textual variables to date and time object\n",
    "\n",
    "# getting dates x-axis\n",
    "x = [p[\"Date\"] for p in brent_daily]\n",
    "# getting prices y-axis\n",
    "y = [p[\"Price\"] for p in brent_daily]\n",
    "# converting string dates to datetime objects\n",
    "x_dt = [datetime.datetime.strptime(xi,\"%Y-%m-%d\").date() for xi in x]\n",
    "# plotting datetime vs prices\n",
    "plt.plot(x_dt,y)\n",
    "# increasing figure size. gcf(): get current figure\n",
    "plt.gcf().set_size_inches((20,10))"
   ]
  },
  {
   "cell_type": "markdown",
   "metadata": {},
   "source": [
    "##  Basic Object Oriented Programming"
   ]
  },
  {
   "cell_type": "markdown",
   "metadata": {},
   "source": [
    "### Functions\n",
    "While working on a project, often situations are encountered where a block of code is required to be executed in a repeated manner with different arguments. The code is organized in a much more reusable pieces which are known as 'functions'. In Python, they could be created by using def or lambda statement. An example of a case where a function can be used to convert units is shown below. Every time we need to convert the units again, we can simply call the function and pass the new argument."
   ]
  },
  {
   "cell_type": "code",
   "execution_count": null,
   "metadata": {},
   "outputs": [],
   "source": [
    "# function to convert units for mud weight\n",
    "def unit_conversion(a):\n",
    "    '''\n",
    "    This function is used to convert units of mud weight.\n",
    "    \n",
    "    Input: Mud Weight in kg/m3\n",
    "    Output: Mud Weight in ppg or psi/ft or specific gravity\n",
    "    \n",
    "    '''\n",
    "    print('The entered mud weight in kg/m3 is:', a)\n",
    "    mw_ppg = a * 0.0083454\n",
    "    mw_psift = a * 0.000434\n",
    "    sp_gravity = a * 0.001\n",
    "    print('Mud Weight in ppg:', mw_ppg)\n",
    "    print('Mud Weight in psi/ft:', mw_psift)\n",
    "    print('Specific Gravity:', sp_gravity)"
   ]
  },
  {
   "cell_type": "code",
   "execution_count": null,
   "metadata": {},
   "outputs": [],
   "source": [
    "# enter the input for mud weight in kg/m3\n",
    "mud_weight = 1250\n",
    "unit_conversion(mud_weight)"
   ]
  },
  {
   "cell_type": "markdown",
   "metadata": {},
   "source": [
    "### Classes\n",
    "When we are using only functions as blocks of statements within a code, it is called procedure-oriented way of programming. However there is another way of writing more complicated programs commonly known as object-oriented programming (OOP). Data and functionality (i.e. properties and behavior) is wrapped inside a class and object which are the two main aspects of OOP. Class is used to create a user-defined data structures with information related to a particular characteristic. It can be thought of as a blueprint which can be filled out with different instances. Different objects are created within a class which contain attributes. An example of a simple class is shown below. For a more detailed description of classes the readers are recommended to refer to https://docs.python.org/3/tutorial/classes.html."
   ]
  },
  {
   "cell_type": "code",
   "execution_count": null,
   "metadata": {},
   "outputs": [],
   "source": [
    "class well():\n",
    "    # class attribute\n",
    "    well_type = 'oil well'\n",
    "    \n",
    "    # initializer\n",
    "    def __init__(self, api, basin, oil_prod, gas_prod):\n",
    "        self.api = api\n",
    "        self.basin = basin\n",
    "        self.oil_prod = oil_prod # BBL\n",
    "        self.gas_prod = gas_prod # MCF\n",
    "        \n",
    "    # instance method\n",
    "    def boe_calc(self):\n",
    "        boe = self.oil_prod + self.gas_prod/5.8\n",
    "        return boe   "
   ]
  },
  {
   "cell_type": "code",
   "execution_count": null,
   "metadata": {},
   "outputs": [],
   "source": [
    "# instantiating the class\n",
    "well_1 = well(12345, 'Williston', 1000, 5000)\n",
    "\n",
    "# calling a method of the class\n",
    "print(well_1.boe_calc()) # boe production of well_1\n",
    "\n",
    "well_2 = well(78910, 'Permian', 2000, 6000)\n",
    "print(well_2.boe_calc()) # boe production of well_1"
   ]
  },
  {
   "cell_type": "code",
   "execution_count": null,
   "metadata": {},
   "outputs": [],
   "source": [
    "# access the instance attributes\n",
    "print('API for first well is:', well_1.api, 'and its in', well_1.basin, 'Basin')\n",
    "if well_1.well_type == 'oil well':\n",
    "    print(\"{0} belongs to {1} category\".format(well_1.api, well_1.well_type))"
   ]
  },
  {
   "cell_type": "code",
   "execution_count": null,
   "metadata": {},
   "outputs": [],
   "source": []
  }
 ],
 "metadata": {
  "kernelspec": {
   "display_name": "Python 3 (ipykernel)",
   "language": "python",
   "name": "python3"
  },
  "language_info": {
   "codemirror_mode": {
    "name": "ipython",
    "version": 3
   },
   "file_extension": ".py",
   "mimetype": "text/x-python",
   "name": "python",
   "nbconvert_exporter": "python",
   "pygments_lexer": "ipython3",
   "version": "3.8.6"
  }
 },
 "nbformat": 4,
 "nbformat_minor": 4
}
